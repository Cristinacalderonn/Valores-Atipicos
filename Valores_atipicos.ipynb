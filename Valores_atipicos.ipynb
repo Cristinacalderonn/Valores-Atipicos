{
  "nbformat": 4,
  "nbformat_minor": 0,
  "metadata": {
    "colab": {
      "provenance": [],
      "authorship_tag": "ABX9TyM4FqyPtbnTiAUA2gAtQ2U6",
      "include_colab_link": true
    },
    "kernelspec": {
      "name": "python3",
      "display_name": "Python 3"
    },
    "language_info": {
      "name": "python"
    }
  },
  "cells": [
    {
      "cell_type": "markdown",
      "metadata": {
        "id": "view-in-github",
        "colab_type": "text"
      },
      "source": [
        "<a href=\"https://colab.research.google.com/github/Cristinacalderonn/Valores-Atipicos/blob/main/Valores_atipicos.ipynb\" target=\"_parent\"><img src=\"https://colab.research.google.com/assets/colab-badge.svg\" alt=\"Open In Colab\"/></a>"
      ]
    },
    {
      "cell_type": "code",
      "execution_count": 1,
      "metadata": {
        "id": "yWq8tP8HzU1S"
      },
      "outputs": [],
      "source": [
        "#Importamos las librerias pandas, numpy y matplotlib respectivamente\n",
        "import pandas as pd\n",
        "import numpy as np\n",
        "import matplotlib.pyplot as plt"
      ]
    },
    {
      "cell_type": "code",
      "source": [
        "#Cargar archivo csv desde equipo\n",
        "from google.colab import files\n",
        "files.upload()"
      ],
      "metadata": {
        "id": "EbwaqrNgzqhG"
      },
      "execution_count": null,
      "outputs": []
    },
    {
      "cell_type": "code",
      "source": [
        "#Carga desde un archivo .csv sin indice\n",
        "data= pd.read_csv('inmuebles_sin_nulos.csv')\n",
        "data"
      ],
      "metadata": {
        "id": "YUCvUD2v0Q4x"
      },
      "execution_count": null,
      "outputs": []
    },
    {
      "cell_type": "code",
      "source": [
        "#Corroboramos valores nulos\n",
        "valores_nulos=data.isnull().sum()\n",
        "valores_nulos"
      ],
      "metadata": {
        "id": "z14RTN4S0Ubi"
      },
      "execution_count": null,
      "outputs": []
    },
    {
      "cell_type": "markdown",
      "source": [
        "**PROCEDIMIENTO PARA SEPARAR DATAFRAME EN 2 PARTES (CUANTITATIVAS Y CUALITATIVAS)**"
      ],
      "metadata": {
        "id": "Nt6Bq-cs0WQn"
      }
    },
    {
      "cell_type": "code",
      "source": [
        "#Verificamos información del DataFrame\n",
        "data.info()"
      ],
      "metadata": {
        "id": "uHpBvLyn0ZZE"
      },
      "execution_count": null,
      "outputs": []
    },
    {
      "cell_type": "code",
      "source": [
        "#Filtro para obtener variables cuantitativas\n",
        "Cuantitativas=data.iloc[ : , [0, 5,6]]\n",
        "Cuantitativas"
      ],
      "metadata": {
        "id": "DwkvwpTQ0dKK"
      },
      "execution_count": null,
      "outputs": []
    },
    {
      "cell_type": "code",
      "source": [
        "#Filtro para obtener variables cualitativas\n",
        "Cualitativas=data.iloc[ : , [1,2,3,4,7,8]]\n",
        "Cualitativas"
      ],
      "metadata": {
        "id": "RgfPRCZV0l0y"
      },
      "execution_count": null,
      "outputs": []
    },
    {
      "cell_type": "code",
      "source": [
        "#Realizamos diagrama de caja o bigote de cada columna del dataframe\n",
        "fig = plt.figure(figsize =(15, 8))\n",
        "Cuantitativas.plot(kind='box', vert=True)\n",
        "plt.title(\"Valores Atípicos del Dataframe\")\n",
        "plt.show() #dibujamos el diagrama"
      ],
      "metadata": {
        "id": "n079c3i00pAv"
      },
      "execution_count": null,
      "outputs": []
    },
    {
      "cell_type": "markdown",
      "source": [
        "**PROCEDIMIENTO \"DESVIACIÓN ESTÁNDAR\" PARA ELIMINAR OUTLIERS EN DATAFRAME**"
      ],
      "metadata": {
        "id": "dFbN2FAB0uZl"
      }
    },
    {
      "cell_type": "code",
      "source": [
        "#Método aplicando desviación estandar. Encuentro los valores extremos\n",
        "y=Cuantitativas\n",
        "Limite_Superior= y.mean() + 3*y.std()\n",
        "Limite_Inferior= y.mean() - 3*y.std()\n",
        "print(\"Limite superior permitido\", Limite_Superior)\n",
        "print(\"Limite inferior permitido\", Limite_Inferior)"
      ],
      "metadata": {
        "id": "J10j77TP0wyS"
      },
      "execution_count": null,
      "outputs": []
    },
    {
      "cell_type": "code",
      "source": [
        "# Ajustar maximo de filas\n",
        "pd.options.display.max_rows = None"
      ],
      "metadata": {
        "id": "6SOKM0xj02nO"
      },
      "execution_count": 12,
      "outputs": []
    },
    {
      "cell_type": "code",
      "source": [
        "#Obtenemos datos y los outliers se convierten en nulos en el DataFrame\n",
        "Datos_sin_Outliers= Cuantitativas[(y<=Limite_Superior)&(y>=Limite_Inferior)]\n",
        "Datos_sin_Outliers"
      ],
      "metadata": {
        "id": "eH2BtKs707P-"
      },
      "execution_count": null,
      "outputs": []
    },
    {
      "cell_type": "code",
      "source": [
        "#Corroboramos valores nulos\n",
        "valores_nulos=Datos_sin_Outliers.isnull().sum()\n",
        "valores_nulos"
      ],
      "metadata": {
        "id": "eblsETvX08-Z"
      },
      "execution_count": null,
      "outputs": []
    },
    {
      "cell_type": "code",
      "source": [
        "#Reemplazamos valores atípicos (nulos) del dataframe con \"mean\"\n",
        "#Realizamos una copia del dataframe\n",
        "data_clean=Datos_sin_Outliers.copy()\n",
        "data_clean=data_clean.fillna(round(Datos_sin_Outliers.mean(),1))\n",
        "data_clean"
      ],
      "metadata": {
        "id": "0DTYFvHa1Fzj"
      },
      "execution_count": null,
      "outputs": []
    },
    {
      "cell_type": "code",
      "source": [
        "#Corroboramos valores nulos\n",
        "valores_nulos=data_clean.isnull().sum()\n",
        "valores_nulos"
      ],
      "metadata": {
        "id": "fE-C266M1FlK"
      },
      "execution_count": null,
      "outputs": []
    },
    {
      "cell_type": "markdown",
      "source": [
        "**PROCEDIMIENTO \"CUANTILES\" PARA SUSTITUIR OUTLIERS EN DATAFRAME**"
      ],
      "metadata": {
        "id": "a2Ocsgkl1K8H"
      }
    },
    {
      "cell_type": "code",
      "source": [
        "#Método aplicando Cuartiles. Encuentro cuartiles 0.25 y 0.75\n",
        "y=Cuantitativas\n",
        "\n",
        "percentile25=y.quantile(0.25) #Q1\n",
        "percentile75=y.quantile(0.75) #Q3\n",
        "iqr= percentile75 - percentile25\n",
        "\n",
        "Limite_Superior_iqr= percentile75 + 1.5*iqr\n",
        "Limite_Inferior_iqr= percentile25 - 1.5*iqr\n",
        "print(\"Limite superior permitido\", Limite_Superior_iqr)\n",
        "print(\"Limite inferior permitido\", Limite_Inferior_iqr)"
      ],
      "metadata": {
        "id": "o5ADezsE26TB"
      },
      "execution_count": null,
      "outputs": []
    },
    {
      "cell_type": "code",
      "source": [
        "#Obtenemos datos limpios del Dataframe\n",
        "Datos_sin_Outliers_iqr= Cuantitativas[(y<=Limite_Superior_iqr)&(y>=Limite_Inferior_iqr)]\n",
        "Datos_sin_Outliers_iqr"
      ],
      "metadata": {
        "id": "QuZ_KGX_3Ga8"
      },
      "execution_count": null,
      "outputs": []
    },
    {
      "cell_type": "code",
      "source": [
        "#Corroboramos valores nulos\n",
        "valores_nulos=Datos_sin_Outliers_iqr.isnull().sum()\n",
        "valores_nulos"
      ],
      "metadata": {
        "id": "LnWO7okP3JUB"
      },
      "execution_count": null,
      "outputs": []
    },
    {
      "cell_type": "code",
      "source": [
        "#Reemplazamos valores atípicos (nulos) del dataframe con \"mean\"\n",
        "#Realizamos una copia del dataframe\n",
        "data_clean_iqr=Datos_sin_Outliers_iqr.copy()\n",
        "data_clean_iqr=data_clean_iqr.fillna(round(Datos_sin_Outliers_iqr.mean(),1))\n",
        "data_clean_iqr"
      ],
      "metadata": {
        "id": "7szZX1573OSY"
      },
      "execution_count": null,
      "outputs": []
    },
    {
      "cell_type": "code",
      "source": [
        "#Corroboramos valores nulos\n",
        "valores_nulos=data_clean_iqr.isnull().sum()\n",
        "valores_nulos"
      ],
      "metadata": {
        "id": "174nxIqS3Q2r"
      },
      "execution_count": null,
      "outputs": []
    },
    {
      "cell_type": "markdown",
      "source": [
        "**UNIÓN DE DATAFRAME CUANTITATIVO CON DATAFRAME CUALITATIVO**"
      ],
      "metadata": {
        "id": "GzjvhaK63Tk8"
      }
    },
    {
      "cell_type": "code",
      "source": [
        "Dataframe_final = pd.concat([Cualitativas, data_clean_iqr], axis=1)\n",
        "Dataframe_final"
      ],
      "metadata": {
        "id": "FhK5zURa3WSP"
      },
      "execution_count": null,
      "outputs": []
    },
    {
      "cell_type": "markdown",
      "source": [
        "**DESCARGA DE DATAFRAME PROCESADO**"
      ],
      "metadata": {
        "id": "vLXvxGmy3Zh7"
      }
    },
    {
      "cell_type": "code",
      "source": [
        "#Convertir DataFrame a CSV\n",
        "Dataframe_final.to_csv(\"Dataframe_procesado.csv\")"
      ],
      "metadata": {
        "id": "4vdsASfr3ejC"
      },
      "execution_count": 25,
      "outputs": []
    },
    {
      "cell_type": "code",
      "source": [
        "#descargar archivo filtrado en csv\n",
        "from google.colab import files\n",
        "\n",
        "\n",
        "files.download(\"Dataframe_procesado.csv\")"
      ],
      "metadata": {
        "colab": {
          "base_uri": "https://localhost:8080/",
          "height": 17
        },
        "id": "xsvSKHSd3hIT",
        "outputId": "db24db7a-9eec-4234-d1d7-d7f4cbc47d6c"
      },
      "execution_count": 26,
      "outputs": [
        {
          "output_type": "display_data",
          "data": {
            "text/plain": [
              "<IPython.core.display.Javascript object>"
            ],
            "application/javascript": [
              "\n",
              "    async function download(id, filename, size) {\n",
              "      if (!google.colab.kernel.accessAllowed) {\n",
              "        return;\n",
              "      }\n",
              "      const div = document.createElement('div');\n",
              "      const label = document.createElement('label');\n",
              "      label.textContent = `Downloading \"${filename}\": `;\n",
              "      div.appendChild(label);\n",
              "      const progress = document.createElement('progress');\n",
              "      progress.max = size;\n",
              "      div.appendChild(progress);\n",
              "      document.body.appendChild(div);\n",
              "\n",
              "      const buffers = [];\n",
              "      let downloaded = 0;\n",
              "\n",
              "      const channel = await google.colab.kernel.comms.open(id);\n",
              "      // Send a message to notify the kernel that we're ready.\n",
              "      channel.send({})\n",
              "\n",
              "      for await (const message of channel.messages) {\n",
              "        // Send a message to notify the kernel that we're ready.\n",
              "        channel.send({})\n",
              "        if (message.buffers) {\n",
              "          for (const buffer of message.buffers) {\n",
              "            buffers.push(buffer);\n",
              "            downloaded += buffer.byteLength;\n",
              "            progress.value = downloaded;\n",
              "          }\n",
              "        }\n",
              "      }\n",
              "      const blob = new Blob(buffers, {type: 'application/binary'});\n",
              "      const a = document.createElement('a');\n",
              "      a.href = window.URL.createObjectURL(blob);\n",
              "      a.download = filename;\n",
              "      div.appendChild(a);\n",
              "      a.click();\n",
              "      div.remove();\n",
              "    }\n",
              "  "
            ]
          },
          "metadata": {}
        },
        {
          "output_type": "display_data",
          "data": {
            "text/plain": [
              "<IPython.core.display.Javascript object>"
            ],
            "application/javascript": [
              "download(\"download_d5d3edb7-9fa0-4695-947f-ec1be342b031\", \"Dataframe_procesado.csv\", 302737)"
            ]
          },
          "metadata": {}
        }
      ]
    }
  ]
}